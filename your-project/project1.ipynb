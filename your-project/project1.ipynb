{
 "cells": [
  {
   "cell_type": "code",
   "execution_count": 48,
   "metadata": {},
   "outputs": [],
   "source": [
    "import os\n",
    "import tweepy as tw\n",
    "import pandas as pd\n",
    "import requests\n",
    "from pandas import json_normalize\n",
    "import json"
   ]
  },
  {
   "cell_type": "code",
   "execution_count": 2,
   "metadata": {},
   "outputs": [],
   "source": [
    "#let's recuperate the password to scrap on twitter\n",
    "with open('twitter_consumer_key', 'r') as f1:\n",
    "    consumer_key= f1.read()\n",
    "with open('twitter_consumer_secret', 'r') as f2:\n",
    "    consumer_secret= f2.read()\n",
    "with open('twitter_access_token', 'r') as f3:\n",
    "    access_token= f3.read()\n",
    "with open('twitter_access_token_secret', 'r') as f4:\n",
    "    access_token_secret= f4.read()"
   ]
  },
  {
   "cell_type": "code",
   "execution_count": 3,
   "metadata": {},
   "outputs": [],
   "source": [
    "auth = tw.OAuthHandler(consumer_key, consumer_secret)\n",
    "auth.set_access_token(access_token, access_token_secret)\n",
    "api = tw.API(auth, wait_on_rate_limit=True)"
   ]
  },
  {
   "cell_type": "code",
   "execution_count": 37,
   "metadata": {},
   "outputs": [],
   "source": [
    "#Creation of the search function for #'name_pokemon' on twitter from 2021-04-01 to 2021-04-07\n",
    "def SearchPokemon(pokemon):\n",
    "    pokemon1 = \"#\"+pokemon\n",
    "    tweets = tw.Cursor(api.search,\n",
    "              q=pokemon1,\n",
    "              since=\"2021-04-01\",\n",
    "              until=\"2021-04-07\",\n",
    "              rpp=100).pages(100)\n",
    "    #Count tweets\n",
    "    i = 0\n",
    "    for pages in tweets:\n",
    "        i += len(pages)\n",
    "    return i"
   ]
  },
  {
   "cell_type": "code",
   "execution_count": 40,
   "metadata": {},
   "outputs": [
    {
     "data": {
      "text/plain": [
       "35"
      ]
     },
     "execution_count": 40,
     "metadata": {},
     "output_type": "execute_result"
    }
   ],
   "source": [
    "#test fonction\n",
    "SearchPokemon(\"Bulbasaur\")"
   ]
  },
  {
   "cell_type": "code",
   "execution_count": 42,
   "metadata": {},
   "outputs": [],
   "source": [
    "#recuperation of the pokemon list of pokemonGo from rapidAPI\n",
    "url = \"https://pokemon-go1.p.rapidapi.com/pokemon_stats.json\"\n",
    "\n",
    "headers = {\n",
    "    'x-rapidapi-key': \"acee4c09dfmsh4834f4e84cb1933p160a56jsn38d9b770334a\",\n",
    "    'x-rapidapi-host': \"pokemon-go1.p.rapidapi.com\"\n",
    "    }\n",
    "\n",
    "pokemon_stats_ = requests.request(\"GET\", url, headers=headers)\n",
    "\n",
    "pokemon_stats = pd.json_normalize(pokemon_stats_.json())\n",
    "\n",
    "pd.set_option('display.max_rows', None)\n",
    "\n",
    "#we gonna search only for the \"normal form\" pokemon, excluding the \"specials\" forms\n",
    "normal_pokemon = pokemon_stats.loc[pokemon_stats[\"form\"] == 'Normal']\n",
    "\n",
    "names_poke = normal_pokemon[\"pokemon_name\"].tolist()"
   ]
  },
  {
   "cell_type": "code",
   "execution_count": 87,
   "metadata": {},
   "outputs": [
    {
     "name": "stdout",
     "output_type": "stream",
     "text": [
      "['Bulbasaur', 'Ivysaur', 'Venusaur', 'Charmander', 'Charmeleon']\n"
     ]
    },
    {
     "data": {
      "text/plain": [
       "704"
      ]
     },
     "execution_count": 87,
     "metadata": {},
     "output_type": "execute_result"
    }
   ],
   "source": [
    "print(names_poke[:5])\n",
    "len(names_poke)"
   ]
  },
  {
   "cell_type": "markdown",
   "metadata": {},
   "source": [
    "## We're gonna divide the work into shorter list to avoid computer's or server's problem that may corrupt the data we scrap"
   ]
  },
  {
   "cell_type": "code",
   "execution_count": 43,
   "metadata": {},
   "outputs": [],
   "source": [
    "#To avoid dramaticaly long request, we divide the list in 11 sub-list. \n",
    "#if there is a problem, it should only affect one of the list\n",
    "names_poke1 = names_poke[0:70]\n",
    "names_poke2 = names_poke[70:140]\n",
    "names_poke3 = names_poke[140:210]\n",
    "names_poke4 = names_poke[210:280]\n",
    "names_poke5 = names_poke[280:350]\n",
    "names_poke6 = names_poke[350:420]\n",
    "names_poke7 = names_poke[420:490]\n",
    "names_poke8 = names_poke[490:560]\n",
    "names_poke9 = names_poke[560:630]\n",
    "names_poke10 = names_poke[630:700]\n",
    "names_poke11 = names_poke[700:704]"
   ]
  },
  {
   "cell_type": "code",
   "execution_count": 44,
   "metadata": {},
   "outputs": [],
   "source": [
    "#Downloading the number of occurence for each pokemon in twitter's database. It takes a long time, depending of the data between 10 up to 40 minutes\n",
    "poke1_popu = [(i,SearchPokemon(i)) for i in names_poke1]"
   ]
  },
  {
   "cell_type": "code",
   "execution_count": null,
   "metadata": {},
   "outputs": [],
   "source": [
    "#let's keep all this time consuming work into .txt file to secure the data scrapped\n",
    "with open(\"poke_popu1.txt\", \"w\", encoding='utf-8') as f:\n",
    "    for i in range (0,len(poke1_popu)) :\n",
    "        for j in range(0, len(poke1_popu[i])) :\n",
    "            f.write ( str(poke1_popu[i][j]) + \"\\t\")\n",
    "        f.write (\"\\n\")"
   ]
  },
  {
   "cell_type": "markdown",
   "metadata": {},
   "source": [
    "## The same way, we gonna scrap the rest of the datas and save them into a txt file"
   ]
  },
  {
   "cell_type": "code",
   "execution_count": 46,
   "metadata": {},
   "outputs": [],
   "source": [
    "poke2_popu = [(i,SearchPokemon(i)) for i in names_poke2]"
   ]
  },
  {
   "cell_type": "code",
   "execution_count": null,
   "metadata": {},
   "outputs": [],
   "source": [
    "poke3_popu = [(i,SearchPokemon(i)) for i in names_poke3]"
   ]
  },
  {
   "cell_type": "code",
   "execution_count": null,
   "metadata": {},
   "outputs": [],
   "source": [
    "poke4_popu = [(i,SearchPokemon(i)) for i in names_poke4]"
   ]
  },
  {
   "cell_type": "code",
   "execution_count": null,
   "metadata": {},
   "outputs": [],
   "source": [
    "poke5_popu = [(i,SearchPokemon(i)) for i in names_poke5]"
   ]
  },
  {
   "cell_type": "code",
   "execution_count": null,
   "metadata": {},
   "outputs": [],
   "source": [
    "poke6_popu = [(i,SearchPokemon(i)) for i in names_poke6]"
   ]
  },
  {
   "cell_type": "code",
   "execution_count": null,
   "metadata": {},
   "outputs": [],
   "source": [
    "poke7_popu = [(i,SearchPokemon(i)) for i in names_poke7]"
   ]
  },
  {
   "cell_type": "code",
   "execution_count": null,
   "metadata": {},
   "outputs": [],
   "source": [
    "poke8_popu = [(i,SearchPokemon(i)) for i in names_poke8]"
   ]
  },
  {
   "cell_type": "code",
   "execution_count": null,
   "metadata": {},
   "outputs": [],
   "source": [
    "poke9_popu = [(i,SearchPokemon(i)) for i in names_poke9]"
   ]
  },
  {
   "cell_type": "code",
   "execution_count": null,
   "metadata": {},
   "outputs": [],
   "source": [
    "poke10_popu = [(i,SearchPokemon(i)) for i in names_poke10]"
   ]
  },
  {
   "cell_type": "code",
   "execution_count": 75,
   "metadata": {},
   "outputs": [],
   "source": [
    "poke11_popu = [(i,SearchPokemon(i)) for i in names_poke11]"
   ]
  },
  {
   "cell_type": "markdown",
   "metadata": {},
   "source": [
    "## let's reunite all the list into one list"
   ]
  },
  {
   "cell_type": "code",
   "execution_count": 81,
   "metadata": {},
   "outputs": [],
   "source": [
    "#Assemblage des sous-listes en une seule liste\n",
    "poke_popu = poke1_popu + poke2_popu + poke3_popu + poke4_popu + poke5_popu + poke6_popu + poke7_popu + poke8_popu + poke9_popu + poke10_popu + poke11_popu"
   ]
  },
  {
   "cell_type": "code",
   "execution_count": 83,
   "metadata": {},
   "outputs": [],
   "source": [
    "with open(\"poke_popu.txt\", \"w\", encoding='utf-8') as f:\n",
    "    for i in range (0,len(poke_popu)) :\n",
    "        for j in range(0, len(poke_popu[i])) :\n",
    "            f.write ( str(poke_popu[i][j]) + \"\\t\")\n",
    "        f.write (\"\\n\")"
   ]
  },
  {
   "cell_type": "markdown",
   "metadata": {},
   "source": [
    "# we got all the data we wanted from twitter!"
   ]
  }
 ],
 "metadata": {
  "kernelspec": {
   "display_name": "Python 3",
   "language": "python",
   "name": "python3"
  },
  "language_info": {
   "codemirror_mode": {
    "name": "ipython",
    "version": 3
   },
   "file_extension": ".py",
   "mimetype": "text/x-python",
   "name": "python",
   "nbconvert_exporter": "python",
   "pygments_lexer": "ipython3",
   "version": "3.8.5"
  }
 },
 "nbformat": 4,
 "nbformat_minor": 4
}
